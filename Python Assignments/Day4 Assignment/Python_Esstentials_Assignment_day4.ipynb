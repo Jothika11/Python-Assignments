{
  "nbformat": 4,
  "nbformat_minor": 0,
  "metadata": {
    "colab": {
      "name": "Python Esstentials Assignment day4.ipynb",
      "provenance": [],
      "collapsed_sections": []
    },
    "kernelspec": {
      "name": "python3",
      "display_name": "Python 3"
    }
  },
  "cells": [
    {
      "cell_type": "markdown",
      "metadata": {
        "id": "2Y-Bs5vvSIrf",
        "colab_type": "text"
      },
      "source": [
        "**Question 1**\n",
        "\n",
        "Print the first ArmStrong number in the range of 1042000 to 702648265 and exit the loop as soon as you encounter the first armstrong number.Use while loop"
      ]
    },
    {
      "cell_type": "code",
      "metadata": {
        "id": "kjOUfnLkSvhz",
        "colab_type": "code",
        "colab": {
          "base_uri": "https://localhost:8080/",
          "height": 34
        },
        "outputId": "ba5c2550-d12f-42c6-b9ad-7e4341a6810c"
      },
      "source": [
        "for num in range(1042000,702648265):\n",
        "    temp=num\n",
        "    order = len(str(num))\n",
        "    sum=0\n",
        "    while temp>0:\n",
        "        digit=temp%10\n",
        "        sum+=digit**order\n",
        "        temp//=10\n",
        "    if num==sum:\n",
        "        print(\"The First Armstrong Number in a given range : \",sum)\n",
        "        break"
      ],
      "execution_count": 1,
      "outputs": [
        {
          "output_type": "stream",
          "text": [
            "The First Armstrong Number in a given range :  1741725\n"
          ],
          "name": "stdout"
        }
      ]
    }
  ]
}