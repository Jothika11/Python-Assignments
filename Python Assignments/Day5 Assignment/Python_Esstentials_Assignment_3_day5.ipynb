{
  "nbformat": 4,
  "nbformat_minor": 0,
  "metadata": {
    "colab": {
      "name": "Python Esstentials Assignment 3 day5.ipynb",
      "provenance": [],
      "collapsed_sections": []
    },
    "kernelspec": {
      "name": "python3",
      "display_name": "Python 3"
    }
  },
  "cells": [
    {
      "cell_type": "markdown",
      "metadata": {
        "id": "diZB64JL4rOS",
        "colab_type": "text"
      },
      "source": [
        "**Question 3**\n",
        "\n",
        "Make a Lambda function for capitalizing the whole sentence passed using arguments.\n",
        "And map all the sentences in the List, with the lambda functions"
      ]
    },
    {
      "cell_type": "code",
      "metadata": {
        "id": "sP5KI4eH43c8",
        "colab_type": "code",
        "colab": {}
      },
      "source": [
        "lst= [\"hey this is sai\" ,\"i am in mumbai ,....\"]"
      ],
      "execution_count": 2,
      "outputs": []
    },
    {
      "cell_type": "code",
      "metadata": {
        "id": "68VPTeii5JzM",
        "colab_type": "code",
        "colab": {
          "base_uri": "https://localhost:8080/",
          "height": 34
        },
        "outputId": "cd6400da-4d7f-4c5b-8f48-66ccb0a8d3c9"
      },
      "source": [
        "lst"
      ],
      "execution_count": 3,
      "outputs": [
        {
          "output_type": "execute_result",
          "data": {
            "text/plain": [
              "['hey this is sai', 'i am in mumbai ,....']"
            ]
          },
          "metadata": {
            "tags": []
          },
          "execution_count": 3
        }
      ]
    },
    {
      "cell_type": "code",
      "metadata": {
        "id": "mcqJBY1e5f8D",
        "colab_type": "code",
        "colab": {}
      },
      "source": [
        "lst_new=map(lambda x: x.title(),lst)\n"
      ],
      "execution_count": 4,
      "outputs": []
    },
    {
      "cell_type": "code",
      "metadata": {
        "id": "gMCt0N6k5msz",
        "colab_type": "code",
        "colab": {
          "base_uri": "https://localhost:8080/",
          "height": 34
        },
        "outputId": "29777633-15e0-459b-a55f-8b3ec1ea5294"
      },
      "source": [
        "list(lst_new)"
      ],
      "execution_count": 5,
      "outputs": [
        {
          "output_type": "execute_result",
          "data": {
            "text/plain": [
              "['Hey This Is Sai', 'I Am In Mumbai ,....']"
            ]
          },
          "metadata": {
            "tags": []
          },
          "execution_count": 5
        }
      ]
    }
  ]
}