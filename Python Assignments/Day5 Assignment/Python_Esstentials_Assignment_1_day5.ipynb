{
  "nbformat": 4,
  "nbformat_minor": 0,
  "metadata": {
    "colab": {
      "name": "Python_Esstentials_Assignment_1_day5.ipynb",
      "provenance": [],
      "collapsed_sections": []
    },
    "kernelspec": {
      "name": "python3",
      "display_name": "Python 3"
    }
  },
  "cells": [
    {
      "cell_type": "markdown",
      "metadata": {
        "id": "9jIx5FQEz1pI",
        "colab_type": "text"
      },
      "source": [
        "**Question 1**\n",
        "\n",
        "Write a program to identify sub list [1,1,5] is there in the given list in the same order,if yes print “it’s a Match” if no then print “it’s Gone” in function"
      ]
    },
    {
      "cell_type": "code",
      "metadata": {
        "id": "j6gQ1zFS1I6e",
        "colab_type": "code",
        "colab": {
          "base_uri": "https://localhost:8080/",
          "height": 68
        },
        "outputId": "b64fdfb3-14ac-48d8-97ce-223995cc8708"
      },
      "source": [
        "# Python3 code to demonstrate \n",
        "# to check if list is subset of other \n",
        "# using issubset() \n",
        "\n",
        "# initializing list \n",
        "lst=[1,5,6,4,1,2,3,5]\n",
        "sublst=[1,1,5]\n",
        "\n",
        "# printing original lists \n",
        "print (\"Original list : \" + str(lst)) \n",
        "print (\"Original sub list : \" + str(sublst)) \n",
        "\n",
        "# using issubset() to \n",
        "# check subset of list \n",
        "flag = 0\n",
        "if(set(sublst).issubset(set(lst))): \n",
        "\tflag = 1\n",
        "\t\n",
        "# printing result \n",
        "if (flag) : \n",
        "\tprint (\"Its a Match\") \n",
        "else : \n",
        "\tprint (\"Its gone\") \n"
      ],
      "execution_count": 16,
      "outputs": [
        {
          "output_type": "stream",
          "text": [
            "Original list : [1, 5, 6, 4, 1, 2, 3, 5]\n",
            "Original sub list : [1, 1, 5]\n",
            "Its a Match\n"
          ],
          "name": "stdout"
        }
      ]
    }
  ]
}