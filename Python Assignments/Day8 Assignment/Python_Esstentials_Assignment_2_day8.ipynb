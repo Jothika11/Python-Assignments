{
  "nbformat": 4,
  "nbformat_minor": 0,
  "metadata": {
    "colab": {
      "name": "Python_Esstentials_Assignment_2_day8.ipynb",
      "provenance": [],
      "collapsed_sections": []
    },
    "kernelspec": {
      "name": "python3",
      "display_name": "Python 3"
    }
  },
  "cells": [
    {
      "cell_type": "markdown",
      "metadata": {
        "id": "9M7gjHtCrXs0",
        "colab_type": "text"
      },
      "source": [
        "**Question 2**\n",
        "\n",
        "For this challenge you need to develop a Python program to open a file in read only mode and try writing something to it and handle the subsequent errors using Exception Handling."
      ]
    },
    {
      "cell_type": "code",
      "metadata": {
        "id": "y5CvbhmcrpDT",
        "colab_type": "code",
        "colab": {}
      },
      "source": [
        "file = open(\"letsupgrade.txt\", \"w\")\n",
        "file.write(\"Hi!!! This is Jothika\")\n",
        "file.close()"
      ],
      "execution_count": 5,
      "outputs": []
    },
    {
      "cell_type": "code",
      "metadata": {
        "id": "rKR3N-E1sMOa",
        "colab_type": "code",
        "colab": {
          "base_uri": "https://localhost:8080/",
          "height": 34
        },
        "outputId": "167c3ec8-bb8a-408d-f46b-2e98102d8a16"
      },
      "source": [
        "file = open(\"letsupgrade.txt\", \"r\")\n",
        "fileData = file.read()\n",
        "print(fileData)\n",
        "file.close()"
      ],
      "execution_count": 6,
      "outputs": [
        {
          "output_type": "stream",
          "text": [
            "Hi!!! This is Jothika\n"
          ],
          "name": "stdout"
        }
      ]
    },
    {
      "cell_type": "code",
      "metadata": {
        "id": "B60baI7usP6K",
        "colab_type": "code",
        "colab": {
          "base_uri": "https://localhost:8080/",
          "height": 51
        },
        "outputId": "7e107eb9-b0c3-4f26-b69f-960e9f320407"
      },
      "source": [
        "try:\n",
        "    file = open(\"letsupgrade.txt\", \"r\")\n",
        "    file.write(\" Today my mood is not good.\")\n",
        "    file.close()\n",
        "except Exception as e:\n",
        "    print(e)\n",
        "finally:\n",
        "    print(\"Learning Python Essentials with LetsUpgrade\")"
      ],
      "execution_count": 8,
      "outputs": [
        {
          "output_type": "stream",
          "text": [
            "not writable\n",
            "Learning Python Essentials with LetsUpgrade\n"
          ],
          "name": "stdout"
        }
      ]
    }
  ]
}