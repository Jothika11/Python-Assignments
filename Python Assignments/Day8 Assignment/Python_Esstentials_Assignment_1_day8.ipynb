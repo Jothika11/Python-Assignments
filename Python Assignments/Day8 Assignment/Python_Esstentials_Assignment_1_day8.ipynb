{
  "nbformat": 4,
  "nbformat_minor": 0,
  "metadata": {
    "colab": {
      "name": "Python_Esstentials_Assignment_1_day8.ipynb",
      "provenance": [],
      "collapsed_sections": []
    },
    "kernelspec": {
      "name": "python3",
      "display_name": "Python 3"
    }
  },
  "cells": [
    {
      "cell_type": "markdown",
      "metadata": {
        "id": "RTWaogiDs90y",
        "colab_type": "text"
      },
      "source": [
        "**Question 1**\n",
        "\n",
        "Write a decorator function for your taking input for you any kind of function you want to build,\n",
        "\n",
        "For example - You make a fibonacci series function,in which your input range is been defined by the decorator program input."
      ]
    },
    {
      "cell_type": "code",
      "metadata": {
        "id": "1gDRN6Fss3HA",
        "colab_type": "code",
        "colab": {}
      },
      "source": [
        "def memoize(f):\n",
        "    memo = {}\n",
        "    def helper(x):\n",
        "        if x not in memo:            \n",
        "            memo[x] = f(x)\n",
        "        return memo[x]\n",
        "    return helper\n",
        "    \n",
        "\n",
        "def fib(n):\n",
        "    if n == 0:\n",
        "        return 0\n",
        "    elif n == 1:\n",
        "        return 1\n",
        "    else:\n",
        "        return fib(n-1) + fib(n-2)\n",
        "\n",
        "fib = memoize(fib)"
      ],
      "execution_count": 2,
      "outputs": []
    },
    {
      "cell_type": "code",
      "metadata": {
        "id": "8jOqXOqYs-rY",
        "colab_type": "code",
        "colab": {
          "base_uri": "https://localhost:8080/",
          "height": 34
        },
        "outputId": "2aeca953-e40a-43fe-daac-d0910d987ed3"
      },
      "source": [
        "print(fib(24))"
      ],
      "execution_count": 3,
      "outputs": [
        {
          "output_type": "stream",
          "text": [
            "46368\n"
          ],
          "name": "stdout"
        }
      ]
    }
  ]
}