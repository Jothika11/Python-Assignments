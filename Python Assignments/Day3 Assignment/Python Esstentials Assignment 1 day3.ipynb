{
  "nbformat": 4,
  "nbformat_minor": 0,
  "metadata": {
    "colab": {
      "name": "Python Esstentials Assignment 1 day3.ipynb",
      "provenance": [],
      "collapsed_sections": []
    },
    "kernelspec": {
      "name": "python3",
      "display_name": "Python 3"
    }
  },
  "cells": [
    {
      "cell_type": "markdown",
      "metadata": {
        "id": "gU6ops2394iX",
        "colab_type": "text"
      },
      "source": [
        "**Question 1**\n",
        "\n",
        "You all are Pilots, you want to land a plane safely, so altitude required for landing a plane is\n",
        "1000ft, it it is less than tell pilot to land the plane, or it is more than that but less than 5000ft ask\n",
        "the pilot to “come down to 1000ft”, else if it more than 5000ft ask the pilot to “go around and try\n",
        "later”\n"
      ]
    },
    {
      "cell_type": "code",
      "metadata": {
        "id": "943q3-IC-NqR",
        "colab_type": "code",
        "colab": {
          "base_uri": "https://localhost:8080/",
          "height": 51
        },
        "outputId": "301733c8-00d6-434f-ee2a-499d78e0358f"
      },
      "source": [
        "ft=int(input('Enter the Altitude in ft - '))\n",
        "\n",
        "if ft <= 1000:\n",
        "    print(\"Land the plane\")\n",
        "elif ft <= 5000:\n",
        "    print(\"Come down to 1000ft\")\n",
        "else:\n",
        "    print(\"Go around and try later\")"
      ],
      "execution_count": 23,
      "outputs": [
        {
          "output_type": "stream",
          "text": [
            "Enter the Altitude in ft - 990\n",
            "Land the plane\n"
          ],
          "name": "stdout"
        }
      ]
    },
    {
      "cell_type": "code",
      "metadata": {
        "id": "4ZRAb3CWL20j",
        "colab_type": "code",
        "colab": {
          "base_uri": "https://localhost:8080/",
          "height": 51
        },
        "outputId": "91237d93-ea94-4799-83c4-1415845494e3"
      },
      "source": [
        "ft=int(input('Enter the Altitude in ft - '))\n",
        "\n",
        "if ft <= 1000:\n",
        "    print(\"Land the plane\")\n",
        "elif ft <= 5000:\n",
        "    print(\"Come down to 1000ft\")\n",
        "else:\n",
        "    print(\"Go around and try later\")"
      ],
      "execution_count": 24,
      "outputs": [
        {
          "output_type": "stream",
          "text": [
            "Enter the Altitude in ft - 2500\n",
            "Come down to 1000ft\n"
          ],
          "name": "stdout"
        }
      ]
    },
    {
      "cell_type": "code",
      "metadata": {
        "id": "71P3JgphMECE",
        "colab_type": "code",
        "colab": {
          "base_uri": "https://localhost:8080/",
          "height": 51
        },
        "outputId": "b79de205-ff23-46f5-d69c-febaa92a2697"
      },
      "source": [
        "ft=int(input('Enter the Altitude in ft - '))\n",
        "\n",
        "if ft <= 1000:\n",
        "    print(\"Land the plane\")\n",
        "elif ft <= 5000:\n",
        "    print(\"Come down to 1000ft\")\n",
        "else:\n",
        "    print(\"Go around and try later\")"
      ],
      "execution_count": 25,
      "outputs": [
        {
          "output_type": "stream",
          "text": [
            "Enter the Altitude in ft - 6000\n",
            "Go around and try later\n"
          ],
          "name": "stdout"
        }
      ]
    }
  ]
}