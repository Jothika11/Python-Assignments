{
  "nbformat": 4,
  "nbformat_minor": 0,
  "metadata": {
    "colab": {
      "name": "Python_Esstentials_Assignment_1_day9.ipynb",
      "provenance": [],
      "collapsed_sections": []
    },
    "kernelspec": {
      "name": "python3",
      "display_name": "Python 3"
    }
  },
  "cells": [
    {
      "cell_type": "markdown",
      "metadata": {
        "id": "IpMqx1cBwScD",
        "colab_type": "text"
      },
      "source": [
        "**Question 1**\n",
        "\n",
        "Write a python Function for finding is a given number prime or not and do Unit Testing on it using PyLint and Unittest Library."
      ]
    },
    {
      "cell_type": "code",
      "metadata": {
        "id": "Ij65ayhkudIH",
        "colab_type": "code",
        "colab": {}
      },
      "source": [
        "! pip install pylint"
      ],
      "execution_count": null,
      "outputs": []
    },
    {
      "cell_type": "code",
      "metadata": {
        "id": "ojyVxJKiu3zH",
        "colab_type": "code",
        "colab": {
          "base_uri": "https://localhost:8080/",
          "height": 34
        },
        "outputId": "81ff7daf-1dc7-4caf-f11c-0d6c8b76d4ab"
      },
      "source": [
        "%%writefile prime.py\n",
        "'''\n",
        "It is  a prime number\n",
        "'''\n",
        "def isprime(num):\n",
        "    '''\n",
        "    It is\n",
        "    '''\n",
        "    if num in(0, 1):\n",
        "        return False\n",
        "    for prime in range(2, num-1):\n",
        "        if num % prime == 0:\n",
        "            return False\n",
        "        return True"
      ],
      "execution_count": 9,
      "outputs": [
        {
          "output_type": "stream",
          "text": [
            "Writing prime.py\n"
          ],
          "name": "stdout"
        }
      ]
    },
    {
      "cell_type": "code",
      "metadata": {
        "id": "aS0ROVcIu-lF",
        "colab_type": "code",
        "colab": {}
      },
      "source": [
        "! pylint prime.py"
      ],
      "execution_count": null,
      "outputs": []
    },
    {
      "cell_type": "code",
      "metadata": {
        "id": "--TEzTFOu-i1",
        "colab_type": "code",
        "colab": {
          "base_uri": "https://localhost:8080/",
          "height": 34
        },
        "outputId": "6f019d38-5dbc-4044-ce66-b62e3f4efef5"
      },
      "source": [
        "import prime\n",
        "prime.isprime(199)"
      ],
      "execution_count": 16,
      "outputs": [
        {
          "output_type": "execute_result",
          "data": {
            "text/plain": [
              "True"
            ]
          },
          "metadata": {
            "tags": []
          },
          "execution_count": 16
        }
      ]
    }
  ]
}