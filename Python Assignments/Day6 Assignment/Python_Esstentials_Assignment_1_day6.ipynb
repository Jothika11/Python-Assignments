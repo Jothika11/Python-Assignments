{
  "nbformat": 4,
  "nbformat_minor": 0,
  "metadata": {
    "colab": {
      "name": "Python_Esstentials_Assignment_1_day6.ipynb",
      "provenance": [],
      "collapsed_sections": []
    },
    "kernelspec": {
      "name": "python3",
      "display_name": "Python 3"
    }
  },
  "cells": [
    {
      "cell_type": "markdown",
      "metadata": {
        "id": "vS0KM57QC2mV",
        "colab_type": "text"
      },
      "source": [
        "**Question 1**\n",
        "\n",
        "For this challenge,create a bank account class that has two attributes\n",
        "\n",
        "*ownerName\n",
        "\n",
        "*Balance\n",
        "\n",
        "And two methods\n",
        "\n",
        "*deposit\n",
        "\n",
        "*withdraw\n",
        "\n",
        "As an added requirement,withdrawals may not exceed the available balance.\n",
        "Instantiate your class,make several deposits and withdrawals,and test to make sure the account\n",
        "cant be overdrawn.\n"
      ]
    },
    {
      "cell_type": "code",
      "metadata": {
        "id": "gOfxgRa2HNoV",
        "colab_type": "code",
        "colab": {
          "base_uri": "https://localhost:8080/",
          "height": 34
        },
        "outputId": "05756f5b-63d3-4244-accc-a7e78b910283"
      },
      "source": [
        "class Bank_Account: \n",
        "    def __init__(self): \n",
        "        self.balance = 0\n",
        "        print(\"Hello!!! Your account is created.\") \n",
        "    \n",
        "    def deposit(self):\n",
        "        amount = int(input('Enter the amount to deposit:'))\n",
        "        self.balance += amount\n",
        "        print('Your New Balance = ' ,self.balance)\n",
        "        \n",
        "    def withdraw(self):\n",
        "        amount = int(input('Enter the amount to withdraw:'))\n",
        "        if (amount > self.balance):\n",
        "            print('Insufficient Balance!')\n",
        "        else:\n",
        "            self.balance -= amount\n",
        "            print('Your Remaining Balance = ', self.balance)\n",
        "            \n",
        "    def enquiry(self):\n",
        "        print('Your Balance = ', self.balance)\n",
        "\n",
        "account = Bank_Account() "
      ],
      "execution_count": 11,
      "outputs": [
        {
          "output_type": "stream",
          "text": [
            "Hello!!! Your account is created.\n"
          ],
          "name": "stdout"
        }
      ]
    },
    {
      "cell_type": "code",
      "metadata": {
        "id": "kP5IXPYHlucI",
        "colab_type": "code",
        "colab": {
          "base_uri": "https://localhost:8080/",
          "height": 51
        },
        "outputId": "cd512b5a-f6c0-4fb6-8ef5-cc3db34b0389"
      },
      "source": [
        "account.deposit()\n"
      ],
      "execution_count": 12,
      "outputs": [
        {
          "output_type": "stream",
          "text": [
            "Enter the amount to deposit:5000\n",
            "Your New Balance =  5000\n"
          ],
          "name": "stdout"
        }
      ]
    },
    {
      "cell_type": "code",
      "metadata": {
        "id": "Pak5EogfmCjO",
        "colab_type": "code",
        "colab": {
          "base_uri": "https://localhost:8080/",
          "height": 51
        },
        "outputId": "a5b51299-d581-43df-e447-b4d339dc09e2"
      },
      "source": [
        "account.withdraw()"
      ],
      "execution_count": 13,
      "outputs": [
        {
          "output_type": "stream",
          "text": [
            "Enter the amount to withdraw:4000\n",
            "Your Remaining Balance =  1000\n"
          ],
          "name": "stdout"
        }
      ]
    },
    {
      "cell_type": "code",
      "metadata": {
        "id": "P7B7TzYtmfMN",
        "colab_type": "code",
        "colab": {
          "base_uri": "https://localhost:8080/",
          "height": 51
        },
        "outputId": "1f1091ba-797a-4a9d-975c-85b46888e625"
      },
      "source": [
        "account.withdraw()"
      ],
      "execution_count": 14,
      "outputs": [
        {
          "output_type": "stream",
          "text": [
            "Enter the amount to withdraw:1000\n",
            "Your Remaining Balance =  0\n"
          ],
          "name": "stdout"
        }
      ]
    },
    {
      "cell_type": "code",
      "metadata": {
        "id": "UgpGIT8HmoHc",
        "colab_type": "code",
        "colab": {
          "base_uri": "https://localhost:8080/",
          "height": 51
        },
        "outputId": "b406cb37-e383-4816-e38d-de2e8ff28de8"
      },
      "source": [
        "account.withdraw()"
      ],
      "execution_count": 15,
      "outputs": [
        {
          "output_type": "stream",
          "text": [
            "Enter the amount to withdraw:500\n",
            "Insufficient Balance!\n"
          ],
          "name": "stdout"
        }
      ]
    },
    {
      "cell_type": "code",
      "metadata": {
        "id": "5LjI48IGm1Yk",
        "colab_type": "code",
        "colab": {
          "base_uri": "https://localhost:8080/",
          "height": 51
        },
        "outputId": "2398320c-0b29-42c5-952d-e713b5496e71"
      },
      "source": [
        "account.deposit()"
      ],
      "execution_count": 16,
      "outputs": [
        {
          "output_type": "stream",
          "text": [
            "Enter the amount to deposit:2000\n",
            "Your New Balance =  2000\n"
          ],
          "name": "stdout"
        }
      ]
    },
    {
      "cell_type": "code",
      "metadata": {
        "id": "mg5BeLp6moGc",
        "colab_type": "code",
        "colab": {
          "base_uri": "https://localhost:8080/",
          "height": 34
        },
        "outputId": "2d8bc226-fc09-42cc-9f31-5f2c8b0f47fb"
      },
      "source": [
        "account.balance\n"
      ],
      "execution_count": 20,
      "outputs": [
        {
          "output_type": "execute_result",
          "data": {
            "text/plain": [
              "2000"
            ]
          },
          "metadata": {
            "tags": []
          },
          "execution_count": 20
        }
      ]
    },
    {
      "cell_type": "code",
      "metadata": {
        "id": "FyX1rdDfmfLO",
        "colab_type": "code",
        "colab": {
          "base_uri": "https://localhost:8080/",
          "height": 51
        },
        "outputId": "687ab3c7-793f-497b-f334-98b2d1059ab8"
      },
      "source": [
        "account.withdraw()"
      ],
      "execution_count": 21,
      "outputs": [
        {
          "output_type": "stream",
          "text": [
            "Enter the amount to withdraw:1000\n",
            "Your Remaining Balance =  1000\n"
          ],
          "name": "stdout"
        }
      ]
    },
    {
      "cell_type": "code",
      "metadata": {
        "id": "pI_iMbY2neV9",
        "colab_type": "code",
        "colab": {
          "base_uri": "https://localhost:8080/",
          "height": 34
        },
        "outputId": "86b63cec-4445-4d63-dd2a-7c96577d1741"
      },
      "source": [
        "account.enquiry()"
      ],
      "execution_count": 22,
      "outputs": [
        {
          "output_type": "stream",
          "text": [
            "Your Balance =  1000\n"
          ],
          "name": "stdout"
        }
      ]
    }
  ]
}