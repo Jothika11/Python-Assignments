{
  "nbformat": 4,
  "nbformat_minor": 0,
  "metadata": {
    "colab": {
      "name": "Python_Esstentials_Assignment_2_day6.ipynb",
      "provenance": [],
      "collapsed_sections": []
    },
    "kernelspec": {
      "name": "python3",
      "display_name": "Python 3"
    }
  },
  "cells": [
    {
      "cell_type": "markdown",
      "metadata": {
        "id": "RwJvaOoOKj9x",
        "colab_type": "text"
      },
      "source": [
        "**Question 2**\n",
        "\n",
        "For this challenge,create a cone class that has two attributes:\n",
        "\n",
        "*R=Radius\n",
        "\n",
        "*h=Height\n",
        "\n",
        "And two methods:\n",
        "\n",
        "*Volume = Π * r2 = (h/3)\n",
        "\n",
        "*Surface area : base : Π * r2 , side : Π * r * √(r2 + h2)\n",
        "\n",
        "Make only one class with functions,as in where required import Math."
      ]
    },
    {
      "cell_type": "code",
      "metadata": {
        "id": "fGLLWU1qKTU3",
        "colab_type": "code",
        "colab": {
          "base_uri": "https://localhost:8080/",
          "height": 85
        },
        "outputId": "ef0b83b1-72e2-4326-f15d-5759ff542844"
      },
      "source": [
        "\n",
        "\n",
        "\n",
        "# Python Program to find Volume and Surface Area of a Cone\n",
        "\n",
        "import math\n",
        "\n",
        "radius = float(input('Please Enter the Radius of a Cone: '))\n",
        "height = float(input('Please Enter the Height of a Cone: '))\n",
        "\n",
        "# Calculate Length of a Slide (Slant)\n",
        "l = math.sqrt(radius * radius + height * height)\n",
        "\n",
        "# Calculate the Surface Area\n",
        "SA = math.pi * radius * (radius + l)\n",
        "\n",
        "# Calculate the Volume\n",
        "Volume = (1.0/3) * math.pi * radius * radius * height\n",
        "\n",
        "print(\" The Surface Area of a Cone = %.2f \" %SA)\n",
        "print(\" The Volume of a Cone = %.2f\" %Volume);\n",
        "\n"
      ],
      "execution_count": 8,
      "outputs": [
        {
          "output_type": "stream",
          "text": [
            "Please Enter the Radius of a Cone: 23\n",
            "Please Enter the Height of a Cone: 43\n",
            " The Surface Area of a Cone = 5185.48 \n",
            " The Volume of a Cone = 23820.60\n"
          ],
          "name": "stdout"
        }
      ]
    }
  ]
}